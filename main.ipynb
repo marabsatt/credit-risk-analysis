{
 "cells": [
  {
   "cell_type": "code",
   "execution_count": null,
   "id": "b97d1790",
   "metadata": {},
   "outputs": [],
   "source": [
    "# Import class for data manipulation and analysis\n",
    "import pandas as pd\n",
    "import numpy as np\n",
    "\n",
    "# Import class for data visualization\n",
    "import matplotlib.pyplot as plt\n",
    "import seaborn as sns\n",
    "\n",
    "# Import class for prepocessing and model evaluation\n",
    "from sklearn.model_selection import train_test_split\n",
    "from sklearn.preprocessing import StandardScaler\n",
    "from sklearn.metrics import accuracy_score, confusion_matrix, classification_report\n",
    "\n",
    "# Import class for machine learning model\n"
   ]
  }
 ],
 "metadata": {
  "language_info": {
   "name": "python"
  }
 },
 "nbformat": 4,
 "nbformat_minor": 5
}
